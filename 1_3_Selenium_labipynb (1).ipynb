{
  "nbformat": 4,
  "nbformat_minor": 0,
  "metadata": {
    "colab": {
      "provenance": []
    },
    "kernelspec": {
      "name": "python3",
      "display_name": "Python 3"
    },
    "language_info": {
      "name": "python"
    }
  },
  "cells": [
    {
      "cell_type": "markdown",
      "metadata": {
        "id": "6n0z8mcBUFWY"
      },
      "source": [
        "<img src=\"https://www.uc3m.es/ss/Satellite?blobcol=urldata&blobkey=id&blobtable=MungoBlobs&blobwhere=1371573952659\">\n",
        "\n",
        "---\n",
        "\n",
        "# WEB ANALYTICS COURSE 4 - SEMESTER 2\n",
        "# BACHELOR IN DATA SCIENCE AND ENGINEERING\n",
        "\n",
        "# LAB 1.3 WEB SCRAPING WITH SELENIUM\n",
        "\n",
        "---"
      ]
    },
    {
      "cell_type": "markdown",
      "source": [
        "Made by:\n",
        "\n",
        "### Marina Gómez Rey (100472836)\n",
        "### María Ángeles Magro Garrote (100472867)\n",
        "### Sara Piñas García (100472784)\n",
        "### Eduardo González Agüero (100472704)"
      ],
      "metadata": {
        "id": "jeBRFiC43PQB"
      }
    },
    {
      "cell_type": "markdown",
      "metadata": {
        "id": "vS1O4BW82LV6"
      },
      "source": [
        "# 0. Lab Preparation\n",
        "\n",
        "1.  Study and have clear the concepts explained in the theoretical class and the introductory lab.\n",
        "\n",
        "2.   Gain experience with the use of the [Selenium](https://https://www.selenium.dev/). The exercises of this lab will be mainly based on the utilization of functions offered by this library.\n",
        "\n",
        "3. It is assumed students have experience in using Python notebooks. Either a local installation (e.g., local python installation + Jupyter) or a cloud-based solution (e.g., Google Colab). *We recommend the second option*."
      ]
    },
    {
      "cell_type": "markdown",
      "metadata": {
        "id": "nwlGXDUG2db2"
      },
      "source": [
        "# 1. Lab Introduction"
      ]
    },
    {
      "cell_type": "markdown",
      "metadata": {
        "id": "ypNv8Fpi2YS7"
      },
      "source": [
        "* In this lab, we will implement a web scraper using [Selenium](https://https://www.selenium.dev/). One of the tools explained in the theoretical class.\n",
        "\n",
        "* The lab will be done in groups of 4 people.\n",
        "\n",
        "* The lab defines a set of milestones the students must complete. Upon completing all the milestones, students should call the professor, who will check the correctness of the solution (*If the professor is busy, do not wait for them, move to the next lab*).\n",
        "\n",
        "* **The final mark will be computed as a function of the number of milestones successfully completed.**\n",
        "\n",
        "* **Each group should also share their lab notebook with the professor upon the finalization of the lab.**\n",
        "\n",
        "* In this lab we will use the [Selenium](https://https://www.selenium.dev/) library for the creation of a web scraper, to extract information from the web. As indicated in the *Lab Preparation* section above, it is expected that students have gained experience in the use of the library before starting the first session of the lab.\n",
        "\n",
        "- It is recommended to use [Google Colab](https://colab.research.google.com/) to produce the Python notebook with the solution of the lab. Of course, if any student prefers using its local programming environment (e.g., jupyter) and python installation, they are welcome to do so."
      ]
    },
    {
      "cell_type": "code",
      "source": [
        "%%capture\n",
        "!pip install selenium"
      ],
      "metadata": {
        "collapsed": true,
        "id": "04ujr9et4ick"
      },
      "execution_count": 1,
      "outputs": []
    },
    {
      "cell_type": "markdown",
      "metadata": {
        "id": "h6Apdrzn2s18"
      },
      "source": [
        "# MILESTONE 1\n",
        "\n",
        "a) Access to the website [BACHELOR IN DATA SCIENCE AND ENGINEERING\n",
        "](https://www.uc3m.es/bachelor-degree/data-science)\n",
        "\n",
        "b) Find the element tag with `id=\"program\"` and print the result\n",
        "\n",
        "c) Find the table inside PROGRAM for Course 1 - Semester 1 and print the result\n"
      ]
    },
    {
      "cell_type": "code",
      "metadata": {
        "id": "KoiDgC1yM-gF"
      },
      "source": [
        "from selenium import webdriver\n",
        "from selenium.webdriver.common.by import By\n",
        "\n",
        "options = webdriver.ChromeOptions()\n",
        "options.add_argument('--headless')\n",
        "options.add_argument('--no-sandbox')\n",
        "options.add_argument('--disable-dev-shm-usage')\n",
        "driver = webdriver.Chrome(options=options)\n",
        "\n",
        "url = \"https://www.uc3m.es/bachelor-degree/data-science\"\n",
        "driver.get(url)"
      ],
      "execution_count": 2,
      "outputs": []
    },
    {
      "cell_type": "code",
      "source": [
        "program = driver.find_element(By.ID, \"program\")\n",
        "program_text = program.text\n",
        "print(program_text)"
      ],
      "metadata": {
        "colab": {
          "base_uri": "https://localhost:8080/"
        },
        "id": "teufGjib4c8B",
        "outputId": "6dcf199c-ac66-4ebe-c453-2d44ca50e24d"
      },
      "execution_count": 3,
      "outputs": [
        {
          "output_type": "stream",
          "name": "stdout",
          "text": [
            "PROGRAM\n"
          ]
        }
      ]
    },
    {
      "cell_type": "code",
      "source": [
        "from selenium import webdriver\n",
        "from selenium.webdriver.common.by import By\n",
        "\n",
        "program_section = driver.find_elements(By.XPATH, \".//h3[contains(text(), 'Year 1 - Semester 1')]/following-sibling::table//tbody/tr\")\n",
        "\n",
        "# Iterar sobre los tr y extraer los td\n",
        "for row in program_section:\n",
        "    cells = row.find_elements(By.XPATH, './/td')  # Encuentra cada <td> dentro del <tr>\n",
        "\n",
        "    cell_contents = []\n",
        "\n",
        "    for cell in cells:\n",
        "        cell_html = cell.get_attribute('innerHTML').strip()\n",
        "        cell_contents.append(cell_html)\n",
        "\n",
        "    print(cell_contents)\n",
        "\n",
        "driver.quit()"
      ],
      "metadata": {
        "colab": {
          "base_uri": "https://localhost:8080/"
        },
        "id": "Y2fcCgo7f3RX",
        "outputId": "72d27b07-8ff6-4b91-cbe2-cab8170268db"
      },
      "execution_count": 4,
      "outputs": [
        {
          "output_type": "stream",
          "name": "stdout",
          "text": [
            "['<a href=\"https://aplicaciones.uc3m.es/cpa/generaFicha?&amp;est=350&amp;plan=392&amp;asig=16472&amp;idioma=2\"><span class=\"\">Calculus I</span></a>', '<span class=\"\">6</span>', '<span class=\"\">BC</span>', '<img class=\"idioma_img\" src=\"/base/media/base/img/decorativa/IMG_Comunes_IdiomaEN_Square/ingles.jpg\" alt=\"English\">']\n",
            "['<a href=\"https://aplicaciones.uc3m.es/cpa/generaFicha?&amp;est=350&amp;plan=392&amp;asig=16475&amp;idioma=2\"><span class=\"\">Introduction to Data Science</span></a>', '<span class=\"\">6</span>', '<span class=\"\">BC</span>', '<img class=\"idioma_img\" src=\"/base/media/base/img/decorativa/IMG_Comunes_IdiomaEN_Square/ingles.jpg\" alt=\"English\">']\n",
            "['<a href=\"https://aplicaciones.uc3m.es/cpa/generaFicha?&amp;est=350&amp;plan=392&amp;asig=16266&amp;idioma=2\"><span class=\"\">Linear algebra</span></a>', '<span class=\"\">6</span>', '<span class=\"\">BC</span>', '<img class=\"idioma_img\" src=\"/base/media/base/img/decorativa/IMG_Comunes_IdiomaEN_Square/ingles.jpg\" alt=\"English\">']\n",
            "['<a href=\"https://aplicaciones.uc3m.es/cpa/generaFicha?&amp;est=350&amp;plan=392&amp;asig=16477&amp;idioma=2\"><span class=\"\">Probability and Data Analysis</span></a>', '<span class=\"\">6</span>', '<span class=\"\">BC</span>', '<img class=\"idioma_img\" src=\"/base/media/base/img/decorativa/IMG_Comunes_IdiomaEN_Square/ingles.jpg\" alt=\"English\">']\n",
            "['<a href=\"https://aplicaciones.uc3m.es/cpa/generaFicha?&amp;est=350&amp;plan=392&amp;asig=16480&amp;idioma=2\"><span class=\"\">Programming</span></a>', '<span class=\"\">6</span>', '<span class=\"\">BC</span>', '<img class=\"idioma_img\" src=\"/base/media/base/img/decorativa/IMG_Comunes_IdiomaEN_Square/ingles.jpg\" alt=\"English\">']\n"
          ]
        }
      ]
    },
    {
      "cell_type": "markdown",
      "metadata": {
        "id": "y_FDSKQs25eV"
      },
      "source": [
        "# MILESTONE 2\n",
        "\n",
        "a) Obtain the link to Web Analytics course by finding the corresponding element in the source code.\n",
        "\n",
        "b) Access to this URL by clicking in the link.\n",
        "\n",
        "c) Print the text inside the _Learning activities and methodology_ section."
      ]
    },
    {
      "cell_type": "code",
      "metadata": {
        "id": "3lSAhVivip3R"
      },
      "source": [
        "from selenium import webdriver\n",
        "from selenium.webdriver.common.by import By\n",
        "\n",
        "options = webdriver.ChromeOptions()\n",
        "options.add_argument('--headless')\n",
        "options.add_argument('--no-sandbox')\n",
        "options.add_argument('--disable-dev-shm-usage')\n",
        "driver = webdriver.Chrome(options=options)\n",
        "\n",
        "url = \"https://www.uc3m.es/bachelor-degree/data-science\"\n",
        "driver.get(url)\n",
        "\n",
        "program = driver.find_element(By.ID, \"program\")\n",
        "\n",
        "web_analytics_elements = driver.find_elements(By.XPATH, '//a[span[contains(text(), \"Web Analytics\")]]')\n",
        "\n",
        "#web_analytics_link = web_analytics_elements[0].get_attribute('href')\n",
        "\n",
        "driver.execute_script(\"arguments[0].click();\", web_analytics_elements[0])"
      ],
      "execution_count": 5,
      "outputs": []
    },
    {
      "cell_type": "code",
      "source": [
        "learning_activities_element = driver.find_elements(By.XPATH, './/*[contains(text(), \"Learning activities and methodology\")]/following-sibling::div')\n",
        "\n",
        "learning_activities = learning_activities_element[0].get_attribute('innerText')\n",
        "print(learning_activities)\n",
        "\n",
        "driver.quit()"
      ],
      "metadata": {
        "colab": {
          "base_uri": "https://localhost:8080/"
        },
        "id": "6garAW_0wJVE",
        "outputId": "8eb591de-74bd-4a7c-fc01-07dd37a6e200"
      },
      "execution_count": 6,
      "outputs": [
        {
          "output_type": "stream",
          "name": "stdout",
          "text": [
            "The course will be based in the following activities:\n",
            "\n",
            "- LECTURES: theoretical lessons that will introduce the main concepts of the course. Students participation to discuss the concepts and problems introduced in the lectures will be encouraged.\n",
            "\n",
            "- LABS: practical lessons in which students will bring to practice the concepts introduced in lectures. Students will have to solve practical problems associated to web analytics.\n",
            "\n",
            "- FINAL GROUP PROJECT: Students will be assigned a project that will be developed throughout the semester in groups of 2 oe 3 people. Students should propose their own project. In exceptional cases the professors may offer a list of projects to students. The responsible professor has to approve the student proposal. The project will include the following elements:\n",
            "1- An initial definition of the goals of the project, technology used and expected results\n",
            "2- Use of any of the data collection studied to retrieve information from some popular online service or social network.\n",
            "3- Data analysis using up to date technological frameworks (for instance python, R, etc).\n",
            "4- Results visualization.\n",
            "\n",
            "The students will defend their project in a public exposition to the rest of students at the end of the semester.\n",
            "\n",
            "There will be a number of lab classes that will be used to supervise the evolution of the project and to allow students progressing in its development.\n",
            "\n",
            "OFFICE HOURS: The students will get access to meetings with professors every week individually or collectively in order to clarify theorical and/or practical concepts. In addition, these meetings are valid to access to a more detailed supervision of student projects.\n",
            "\n"
          ]
        }
      ]
    },
    {
      "cell_type": "markdown",
      "metadata": {
        "id": "CyZCe1gYam13"
      },
      "source": [
        "# MILESTONE 3\n",
        "\n",
        "Now let's build the first steps for a price monitoring website. For that, we are going to use yamovil.com to obtain car prices. Specifically, we want to find SEAT cars in Madrid and the price of each of them.\n",
        "\n",
        "Follow these steps:\n",
        "\n",
        "a) Check https://www.yamovil.es/robots.txt and see if the site can be crawled or not for our specific search. Explain.\n",
        "\n",
        "b) If yes, use this [URL](https://www.yamovil.es/coches-segunda-mano/seat-ocasion-en-madrid) which already includes the indicated search (SEAT Cars Madrid Second Hand), print the cookies banner text and accept the cookies by clicking on the accept button.\n",
        "\n",
        "c) Scrape the HTML using _Selenium_, and print the **mark**, **model**, **version** and **price** of each available car.\n",
        "\n",
        "d) Click on the last car, print the new url where you have navigated to and print the location of the car (\"este coche se encuentra en ...\").\n",
        "\n",
        "**HINT**: do not forget to quit the driver at the end of your code with `driver.quit()`"
      ]
    },
    {
      "cell_type": "code",
      "metadata": {
        "id": "yMMiET8RbfCT"
      },
      "source": [
        "# yes, we can since our specific search is not disallowed by the robots.txt"
      ],
      "execution_count": 7,
      "outputs": []
    },
    {
      "cell_type": "code",
      "metadata": {
        "id": "oCmp59j5cz7u",
        "colab": {
          "base_uri": "https://localhost:8080/"
        },
        "outputId": "9f7e6bab-d4b4-43d1-9424-2da91e318a98"
      },
      "source": [
        "from selenium import webdriver\n",
        "from selenium.webdriver.common.by import By\n",
        "from selenium.webdriver.support.ui import WebDriverWait\n",
        "from selenium.webdriver.support import expected_conditions as EC\n",
        "\n",
        "# Nuevo link\n",
        "options = webdriver.ChromeOptions()\n",
        "options.add_argument('--headless')\n",
        "options.add_argument('--no-sandbox')\n",
        "options.add_argument('--disable-dev-shm-usage')\n",
        "driver = webdriver.Chrome(options=options)\n",
        "\n",
        "url = \"https://www.yamovil.es/coches-segunda-mano/seat-ocasion-en-madrid\"\n",
        "driver.get(url)\n",
        "\n",
        "# Banner de cookies\n",
        "cookie_banner_text = driver.find_element(By.ID, \"CybotCookiebotDialogBodyContent\").text\n",
        "print(\"Texto del banner de cookies:\")\n",
        "print(cookie_banner_text)\n",
        "\n",
        "# Click en aceptar\n",
        "accept_cookies_button = driver.find_element(By.ID, \"CybotCookiebotDialogBodyLevelButtonLevelOptinAllowAll\")\n",
        "accept_cookies_button.click()\n"
      ],
      "execution_count": 8,
      "outputs": [
        {
          "output_type": "stream",
          "name": "stdout",
          "text": [
            "Texto del banner de cookies:\n",
            "Esta página web usa cookies\n",
            "Las cookies de este sitio web se usan para personalizar el contenido y los anuncios, ofrecer funciones de redes sociales y analizar el tráfico. Además, compartimos información sobre el uso que haga del sitio web con nuestros partners de redes sociales, publicidad y análisis web, quienes pueden combinarla con otra información que les haya proporcionado o que hayan recopilado a partir del uso que haya hecho de sus servicios. para más información visita nuestra política de cookies.\n"
          ]
        }
      ]
    },
    {
      "cell_type": "code",
      "source": [
        "# Extraer todos los coches\n",
        "cars = driver.find_elements(By.CLASS_NAME, 'vehicle-card')\n",
        "\n",
        "for car in cars:\n",
        "    mark = car.find_element(By.CLASS_NAME, 'make').text\n",
        "    model = car.find_element(By.CLASS_NAME, 'model').text\n",
        "    version = car.find_element(By.CLASS_NAME, 'version').text\n",
        "    price = car.find_element(By.CLASS_NAME, 'price').text\n",
        "\n",
        "    print(f\"Mark: {mark}, Model: {model}, Version: {version}, Price: {price}\")"
      ],
      "metadata": {
        "id": "9zuzh4xztzwd",
        "colab": {
          "base_uri": "https://localhost:8080/"
        },
        "outputId": "c380646a-94c3-4982-f06e-a447423be381"
      },
      "execution_count": 9,
      "outputs": [
        {
          "output_type": "stream",
          "name": "stdout",
          "text": [
            "Mark: , Model: , Version: 1.4 TSI ACT SANDS FR 110 kW (150 CV), Price: 16.450€\n",
            "Mark: Seat, Model: Leon, Version: 1.4 TSI ACT SANDS FR 110 kW (150 CV), Price: 17.450€\n",
            "Mark: Seat, Model: Ateca, Version: 1.5 TSI SANDS X-Perience Go 110 kW (150 CV), Price: 21.390€\n",
            "Mark: Seat, Model: Ateca, Version: 1.5 TSI SANDS Xcellence Edition 110 kW (150 CV), Price: 18.950€\n",
            "Mark: Seat, Model: Leon ST, Version: 1.5 TGI GNC SANDS FR Edition Plus DSG 96 kW (130 CV), Price: 19.250€\n",
            "Mark: Seat, Model: Leon, Version: 1.5 TSI SANDS FR Edition Plus 110 kW (150 CV), Price: 16.950€\n",
            "Mark: Seat, Model: Mii, Version: 1.0 Style 55 kW (75 CV), Price: 7.990€\n",
            "Mark: Seat, Model: Ibiza, Version: 1.2 TSI Reference Plus Limited 66 kW (90 CV), Price: 9.750€\n",
            "Mark: Seat, Model: Ibiza SC, Version: 1.2 Reference 51 kW (70 CV), Price: 7.690€\n",
            "Mark: Seat, Model: Leon, Version: 1.5 TSI SANDS FR Edition 96 kW (130 CV), Price: 16.950€\n",
            "Mark: Seat, Model: Ibiza SC, Version: 1.6 TDI Style 66 kW (90 CV), Price: 8.950€\n",
            "Mark: Seat, Model: Leon ST, Version: 1.5 TSI SANDS Xcellence Go L 96 kW (130 CV), Price: 18.450€\n",
            "Mark: Seat, Model: Córdoba, Version: 1.4 16V Stylance 74 kW (100 CV), Price: 6.450€\n",
            "Mark: Seat, Model: Leon, Version: 1.5 eTSI SANDS FR Go L DSG 110 kW (150 CV), Price: 21.950€\n",
            "Mark: Seat, Model: Arona, Version: 1.0 TSI SANDS FR XM Edition 81 kW (110 CV), Price: 17.950€\n",
            "Mark: Seat, Model: Arona, Version: 1.0 TSI FR XM 81 kW (110 CV), Price: 18.150€\n",
            "Mark: Seat, Model: Arona, Version: 1.0 TSI FR XM DSG 81 kW (110 CV), Price: 19.250€\n",
            "Mark: Seat, Model: Arona, Version: 1.0 TSI FR XM DSG 81 kW (110 CV), Price: 19.350€\n",
            "Mark: Seat, Model: Arona, Version: 1.0 TSI FR XM DSG 81 kW (110 CV), Price: 19.250€\n",
            "Mark: Seat, Model: Arona, Version: 1.0 TSI FR XM DSG 81 kW (110 CV), Price: 19.250€\n",
            "Mark: Seat, Model: Arona, Version: 1.0 TSI FR XM DSG 81 kW (110 CV), Price: 19.350€\n",
            "Mark: Seat, Model: Arona, Version: 1.0 TSI FR XM 81 kW (110 CV), Price: 18.350€\n",
            "Mark: Seat, Model: Arona, Version: 1.0 TSI FR XM 81 kW (110 CV), Price: 18.150€\n",
            "Mark: Seat, Model: Ibiza, Version: 1.6 TDI DPF Style 77 kW (105 CV), Price: 8.950€\n",
            "Mark: Seat, Model: Ibiza, Version: 1.6 TDI Reference ITech 30 Aniversario 66 kW (90 CV), Price: 10.250€\n",
            "Mark: Seat, Model: Ibiza, Version: 1.0 TSI Style Go2 81 kW (110 CV), Price: 14.450€\n",
            "Mark: Seat, Model: Tarraco, Version: 2.0 TDI SANDS Xcellence 4Drive DSG 140 kW (190 CV), Price: 27.450€\n",
            "Mark: Seat, Model: Leon ST, Version: 1.5 TGI GNC SANDS FR Fast Edition Plus DSG-7 96 kW (130 CV), Price: 18.450€\n",
            "Mark: Seat, Model: Mii, Version: 1.0 Cosmopolitan 55 kW (75 CV), Price: 9.480€\n"
          ]
        }
      ]
    },
    {
      "cell_type": "code",
      "source": [
        "# Click en el último coche\n",
        "last_car = cars[-1].find_element(By.TAG_NAME, 'a')  # Encuentra el enlace dentro del último coche\n",
        "last_car.click()\n",
        "\n",
        "new_url = driver.current_url\n",
        "print(f\"Checkear que estamos en el link bueno: {new_url}\")"
      ],
      "metadata": {
        "colab": {
          "base_uri": "https://localhost:8080/"
        },
        "id": "4JrwdPMRuYQ-",
        "outputId": "dc88b604-cdf8-4387-f4d7-a700c2319d77"
      },
      "execution_count": 10,
      "outputs": [
        {
          "output_type": "stream",
          "name": "stdout",
          "text": [
            "Checkear que estamos en el link bueno: https://www.yamovil.es/coches-segunda-mano/seat/mii/1-0-cosmopolitan-55-kw-75-cv\n"
          ]
        }
      ]
    },
    {
      "cell_type": "code",
      "source": [
        "find_location = driver.find_element(By.CLASS_NAME, 'vehicle-header__branch')\n",
        "print(find_location.text)"
      ],
      "metadata": {
        "colab": {
          "base_uri": "https://localhost:8080/"
        },
        "id": "dt-MV2Mu2joa",
        "outputId": "5d2c5198-7473-4cf9-bb7b-6d6a3fff4408"
      },
      "execution_count": 11,
      "outputs": [
        {
          "output_type": "stream",
          "name": "stdout",
          "text": [
            "Este coche se encuentra en Pinto\n"
          ]
        }
      ]
    },
    {
      "cell_type": "code",
      "source": [
        "driver.quit()"
      ],
      "metadata": {
        "id": "sAj4J9O-2mFR"
      },
      "execution_count": 12,
      "outputs": []
    }
  ]
}